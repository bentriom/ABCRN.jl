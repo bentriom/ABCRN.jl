{
 "cells": [
  {
   "cell_type": "markdown",
   "metadata": {},
   "source": [
    "# ABC-SMC with ContinuousTimeModel\n",
    "\n",
    "The package allows the run of ABC-SMC algorithm with models defined by the package."
   ]
  },
  {
   "cell_type": "code",
   "execution_count": null,
   "metadata": {},
   "outputs": [],
   "source": [
    "using MarkovProcesses\n",
    "using Distributions\n",
    "\n",
    "load_model(\"SIR\")\n",
    "set_time_bound!(SIR, 100.0)\n",
    "parametric_SIR = ParametricModel(SIR, (:ki, Uniform(0.001, 0.0015)))\n",
    "\n",
    "vec_observations = [simulate(SIR)]\n",
    "\n",
    "function dist_obs(vec_sim::Vector{Trajectory}, vec_observations::Vector{Trajectory})\n",
    "    return dist_lp(vec_sim[1], vec_observations[1]; p=2)\n",
    "end\n",
    "\n",
    "epsilon = 0.5 * dist_obs([simulate(SIR)], vec_observations)\n",
    "@show epsilon\n",
    "\n",
    "res_abc = abc_smc(parametric_SIR, vec_observations, dist_obs, nbr_particles = 100, tolerance = epsilon)\n"
   ]
  },
  {
   "cell_type": "code",
   "execution_count": null,
   "metadata": {},
   "outputs": [],
   "source": [
    "using Plots\n",
    "histogram(vec(res_abc.mat_p_end), weights = res_abc.weights)"
   ]
  },
  {
   "cell_type": "code",
   "execution_count": null,
   "metadata": {},
   "outputs": [],
   "source": []
  }
 ],
 "metadata": {
  "kernelspec": {
   "display_name": "Julia 1.5.3",
   "language": "julia",
   "name": "julia-1.5"
  },
  "language_info": {
   "file_extension": ".jl",
   "mimetype": "application/julia",
   "name": "julia",
   "version": "1.5.3"
  }
 },
 "nbformat": 4,
 "nbformat_minor": 4
}
